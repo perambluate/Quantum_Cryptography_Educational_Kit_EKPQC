{
 "cells": [
  {
   "cell_type": "code",
   "execution_count": 33,
   "id": "cf71da65",
   "metadata": {},
   "outputs": [],
   "source": [
    "import serial\n",
    "import time\n",
    "dev = serial.Serial('COM6',baudrate=38400,timeout=0.1)"
   ]
  },
  {
   "cell_type": "code",
   "execution_count": 18,
   "id": "2cc616d2",
   "metadata": {},
   "outputs": [
    {
     "data": {
      "text/plain": [
       "6"
      ]
     },
     "execution_count": 18,
     "metadata": {},
     "output_type": "execute_result"
    }
   ],
   "source": [
    "dev.write('volt? '.encode())"
   ]
  },
  {
   "cell_type": "code",
   "execution_count": null,
   "id": "e6c240ab",
   "metadata": {},
   "outputs": [],
   "source": [
    "dev.in_waiting"
   ]
  },
  {
   "cell_type": "code",
   "execution_count": 19,
   "id": "fd76392d",
   "metadata": {},
   "outputs": [],
   "source": [
    "response = dev.readline()"
   ]
  },
  {
   "cell_type": "code",
   "execution_count": 20,
   "id": "51817cd9",
   "metadata": {},
   "outputs": [
    {
     "name": "stdout",
     "output_type": "stream",
     "text": [
      "b'406\\r\\n'\n"
     ]
    }
   ],
   "source": [
    "print(response)"
   ]
  },
  {
   "cell_type": "code",
   "execution_count": 52,
   "id": "aab22314",
   "metadata": {},
   "outputs": [
    {
     "data": {
      "text/plain": [
       "5"
      ]
     },
     "execution_count": 52,
     "metadata": {},
     "output_type": "execute_result"
    }
   ],
   "source": [
    "dev.write('help '.encode())"
   ]
  },
  {
   "cell_type": "code",
   "execution_count": 53,
   "id": "2c819f3b",
   "metadata": {},
   "outputs": [],
   "source": [
    "response = dev.readlines()[0]"
   ]
  },
  {
   "cell_type": "code",
   "execution_count": 54,
   "id": "515eab53",
   "metadata": {},
   "outputs": [
    {
     "name": "stdout",
     "output_type": "stream",
     "text": [
      "b'Quantum Key Construction\\n'\n"
     ]
    }
   ],
   "source": [
    "print(response)"
   ]
  },
  {
   "cell_type": "code",
   "execution_count": 51,
   "id": "e4d865b1",
   "metadata": {},
   "outputs": [],
   "source": [
    "dev.reset_input_buffer()"
   ]
  },
  {
   "cell_type": "code",
   "execution_count": 56,
   "id": "e75c6ae2",
   "metadata": {},
   "outputs": [
    {
     "data": {
      "text/plain": [
       "'Quantum Key Construction'"
      ]
     },
     "execution_count": 56,
     "metadata": {},
     "output_type": "execute_result"
    }
   ],
   "source": [
    "response.decode().strip()"
   ]
  },
  {
   "cell_type": "code",
   "execution_count": 57,
   "id": "8b5dd652",
   "metadata": {},
   "outputs": [
    {
     "data": {
      "text/plain": [
       "['blah']"
      ]
     },
     "execution_count": 57,
     "metadata": {},
     "output_type": "execute_result"
    }
   ],
   "source": [
    "'blah'.split()"
   ]
  },
  {
   "cell_type": "code",
   "execution_count": 58,
   "id": "1cd0cc3d",
   "metadata": {},
   "outputs": [],
   "source": [
    "dev.close()"
   ]
  },
  {
   "cell_type": "code",
   "execution_count": 59,
   "id": "5b8a5b8a",
   "metadata": {},
   "outputs": [
    {
     "data": {
      "text/plain": [
       "False"
      ]
     },
     "execution_count": 59,
     "metadata": {},
     "output_type": "execute_result"
    }
   ],
   "source": [
    "dev.is_open"
   ]
  },
  {
   "cell_type": "code",
   "execution_count": 60,
   "id": "69b2956d",
   "metadata": {},
   "outputs": [],
   "source": [
    "a = ['blah','bleh']"
   ]
  },
  {
   "cell_type": "code",
   "execution_count": 65,
   "id": "279b55b8",
   "metadata": {},
   "outputs": [
    {
     "name": "stdout",
     "output_type": "stream",
     "text": [
      "blah\n",
      "bleh\n"
     ]
    }
   ],
   "source": [
    "for word in a:\n",
    "    print(word)\n",
    "    word = word + 'yes'"
   ]
  },
  {
   "cell_type": "code",
   "execution_count": 64,
   "id": "f20df23c",
   "metadata": {},
   "outputs": [
    {
     "name": "stdout",
     "output_type": "stream",
     "text": [
      "['blah', 'bleh']\n"
     ]
    }
   ],
   "source": [
    "print(a)"
   ]
  },
  {
   "cell_type": "code",
   "execution_count": null,
   "id": "912d159d",
   "metadata": {},
   "outputs": [],
   "source": []
  }
 ],
 "metadata": {
  "kernelspec": {
   "display_name": "Python 3 (ipykernel)",
   "language": "python",
   "name": "python3"
  },
  "language_info": {
   "codemirror_mode": {
    "name": "ipython",
    "version": 3
   },
   "file_extension": ".py",
   "mimetype": "text/x-python",
   "name": "python",
   "nbconvert_exporter": "python",
   "pygments_lexer": "ipython3",
   "version": "3.10.2"
  }
 },
 "nbformat": 4,
 "nbformat_minor": 5
}
